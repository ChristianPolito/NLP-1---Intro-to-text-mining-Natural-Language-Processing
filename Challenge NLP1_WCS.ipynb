{
 "cells": [
  {
   "cell_type": "markdown",
   "id": "91b58a8b-7dfd-4ef1-b421-b01cdcd06aef",
   "metadata": {},
   "source": [
    "NLP exercise \n",
    "\n",
    "- Import NLTK and download the functions you will need (as you go along if necessary).\n",
    "- Get the text of a press article of your choice from the internet (in English it will be easier, but you can take the language of your choice). Assign it to a variable by copying and pasting it into your notebook. For the sake of simplicity, we advise you to take a text that is between 10 and 30 lines long. \n",
    "- Transform your text into sentence tokens\n",
    "- Transform your text into word tokens\n",
    "- Count the frequency of occurrence of each word and make a graph (if possible a bar chart) representing the 20 most frequent words in your text. Are there many words that seem like stop words to you?\n",
    "- Remove the stop words and punctuation, and look again at which words are most present. Again, make the same graph to compare."
   ]
  },
  {
   "cell_type": "code",
   "execution_count": 2,
   "id": "58bddd67-5f81-4786-bbfc-e9613f2e5788",
   "metadata": {},
   "outputs": [],
   "source": [
    "import pandas as pd\n",
    "import plotly.express as px\n",
    "import matplotlib.pyplot as plt\n",
    "import nltk\n",
    "from nltk.tokenize import word_tokenize\n",
    "# regex for removing punctuation!\n",
    "import re"
   ]
  },
  {
   "cell_type": "code",
   "execution_count": 3,
   "id": "9732aec7-7eb5-48f0-809e-72b15cb12d8e",
   "metadata": {},
   "outputs": [],
   "source": [
    "#text from BBC\n",
    "text= \"Sweden's first female prime minister has been reappointed to the top job after political turmoil forced her to resign within hours of taking the post last week. MPs backed Social Democratic Party leader Magdalena Andersson by a narrow margin in a new vote on Monday. She will attempt to lead a one-party government until an election in September next year. She stood down as prime minister last Thursday after her coalition collapsed. Just hours earlier, Ms Andersson had been elected as Sweden's first female prime minister by a single vote in parliament. But the 54-year-old economist's plan for forming a new coalition government with the Green Party was thrown into disarray when her budget proposal failed to pass. Sweden's first female PM resigns hours after appointment. Instead, parliament voted for a budget drawn up by a group of opposition parties, including the far-right Sweden Democrats. The Green Party said it would not accept a budget drafted by the far-right and walked away from the government, leading to its demise. By convention, the prime minister in Sweden is expected to resign if a coalition party leaves government. In Monday's vote in Sweden's parliament, the Riksdag, 101 of its 349 members voted yes, 75 abstained and 173 voted no. To be appointed prime minister under Sweden's political system, a candidate only needs to avoid a majority voting against them. At a news conference after the vote, Ms Andersson said she was ready to 'take Sweden forward' with a programme focused on welfare, climate change and crime. But without the support of other parties, Ms Andersson will struggle to pass legislation in parliament, where the centre-left Social Democrats hold 100 of 349 seats.\""
   ]
  },
  {
   "cell_type": "markdown",
   "id": "c5cf3f24-87a4-44e7-a9fd-af8f9bb62368",
   "metadata": {},
   "source": [
    "#### Tokenize"
   ]
  },
  {
   "cell_type": "code",
   "execution_count": 4,
   "id": "4913835b-92cc-4d55-965b-c22915ba7220",
   "metadata": {},
   "outputs": [
    {
     "data": {
      "text/plain": [
       "[\"Sweden's first female prime minister has been reappointed to the top job after political turmoil forced her to resign within hours of taking the post last week.\",\n",
       " 'MPs backed Social Democratic Party leader Magdalena Andersson by a narrow margin in a new vote on Monday.',\n",
       " 'She will attempt to lead a one-party government until an election in September next year.',\n",
       " 'She stood down as prime minister last Thursday after her coalition collapsed.',\n",
       " \"Just hours earlier, Ms Andersson had been elected as Sweden's first female prime minister by a single vote in parliament.\",\n",
       " \"But the 54-year-old economist's plan for forming a new coalition government with the Green Party was thrown into disarray when her budget proposal failed to pass.\",\n",
       " \"Sweden's first female PM resigns hours after appointment.\",\n",
       " 'Instead, parliament voted for a budget drawn up by a group of opposition parties, including the far-right Sweden Democrats.',\n",
       " 'The Green Party said it would not accept a budget drafted by the far-right and walked away from the government, leading to its demise.',\n",
       " 'By convention, the prime minister in Sweden is expected to resign if a coalition party leaves government.',\n",
       " \"In Monday's vote in Sweden's parliament, the Riksdag, 101 of its 349 members voted yes, 75 abstained and 173 voted no.\",\n",
       " \"To be appointed prime minister under Sweden's political system, a candidate only needs to avoid a majority voting against them.\",\n",
       " \"At a news conference after the vote, Ms Andersson said she was ready to 'take Sweden forward' with a programme focused on welfare, climate change and crime.\",\n",
       " 'But without the support of other parties, Ms Andersson will struggle to pass legislation in parliament, where the centre-left Social Democrats hold 100 of 349 seats.']"
      ]
     },
     "execution_count": 4,
     "metadata": {},
     "output_type": "execute_result"
    }
   ],
   "source": [
    "#tokenization into sentence.\n",
    "sentence_token = nltk.sent_tokenize(text)\n",
    "sentence_token"
   ]
  },
  {
   "cell_type": "code",
   "execution_count": 5,
   "id": "be6c22b0-bc4d-4752-b7f5-35aae8bb3675",
   "metadata": {},
   "outputs": [
    {
     "data": {
      "text/plain": [
       "['Sweden',\n",
       " \"'s\",\n",
       " 'first',\n",
       " 'female',\n",
       " 'prime',\n",
       " 'minister',\n",
       " 'has',\n",
       " 'been',\n",
       " 'reappointed',\n",
       " 'to']"
      ]
     },
     "execution_count": 5,
     "metadata": {},
     "output_type": "execute_result"
    }
   ],
   "source": [
    "#Tokenization into word\n",
    "text_to_word = nltk.word_tokenize(text)\n",
    "text_to_word[:10]"
   ]
  },
  {
   "cell_type": "markdown",
   "id": "5ab72610-69b3-4b2d-a5b3-f1dcf6c8f733",
   "metadata": {},
   "source": [
    "### Frequency distribution"
   ]
  },
  {
   "cell_type": "code",
   "execution_count": 6,
   "id": "853bf3ec-26f2-401e-be26-64ff78abfc96",
   "metadata": {},
   "outputs": [],
   "source": [
    "#Using frequency ditribution and most_comm to identify the 20 most recurring words \n",
    "fdist = nltk.FreqDist(text_to_word)\n",
    "text_to_word_common = fdist.most_common(20)"
   ]
  },
  {
   "cell_type": "code",
   "execution_count": 7,
   "id": "a0e5aed8-91d0-4b74-8fa9-3d1f334413e1",
   "metadata": {},
   "outputs": [
    {
     "data": {
      "text/plain": [
       "[('.', 14),\n",
       " ('a', 13),\n",
       " (',', 13),\n",
       " ('the', 12),\n",
       " ('to', 9),\n",
       " ('Sweden', 8),\n",
       " (\"'s\", 7),\n",
       " ('in', 6),\n",
       " ('prime', 5),\n",
       " ('minister', 5),\n",
       " ('of', 5),\n",
       " ('after', 4),\n",
       " ('Andersson', 4),\n",
       " ('by', 4),\n",
       " ('vote', 4),\n",
       " ('government', 4),\n",
       " ('parliament', 4),\n",
       " ('first', 3),\n",
       " ('female', 3),\n",
       " ('her', 3)]"
      ]
     },
     "execution_count": 7,
     "metadata": {},
     "output_type": "execute_result"
    }
   ],
   "source": [
    "text_to_word_common"
   ]
  },
  {
   "cell_type": "code",
   "execution_count": 8,
   "id": "4dc5f2dd-9574-45bc-ba33-2eaba69c99f6",
   "metadata": {},
   "outputs": [],
   "source": [
    "#Defining a DF to use it for a graph \n",
    "most_common_words = pd.DataFrame(text_to_word_common)\n",
    "most_common_words=most_common_words.rename(columns={0: \"Words\", 1: \"Count\"})"
   ]
  },
  {
   "cell_type": "code",
   "execution_count": 9,
   "id": "ef8acf86-dd5c-4af5-83dc-f67781f758ef",
   "metadata": {},
   "outputs": [
    {
     "data": {
      "image/png": "[encoded data removed]",
      "text/plain": [
       "<Figure size 1080x360 with 1 Axes>"
      ]
     },
     "metadata": {
      "needs_background": "light"
     },
     "output_type": "display_data"
    }
   ],
   "source": [
    "fig, ax = plt.subplots(figsize = (15,5))\n",
    "fig.suptitle(\"Most present words\", size = 22)\n",
    "p1 = ax.barh(\"Words\", data=most_common_words, width=\"Count\")\n"
   ]
  },
  {
   "cell_type": "markdown",
   "id": "53e4126e-865f-47b3-8944-99337b76eebb",
   "metadata": {},
   "source": [
    "Removing stop words and punctuation "
   ]
  },
  {
   "cell_type": "code",
   "execution_count": 10,
   "id": "0caff89b-d819-4bae-88ab-f6aac8579733",
   "metadata": {},
   "outputs": [],
   "source": [
    "stop_words = nltk.corpus.stopwords.words(\"english\")"
   ]
  },
  {
   "cell_type": "code",
   "execution_count": 11,
   "id": "f5efcd23-0a0f-4344-9893-6f3f6e098539",
   "metadata": {},
   "outputs": [],
   "source": [
    "# convert to lower case\n",
    "text_to_word = [w.lower() for w in text_to_word]"
   ]
  },
  {
   "cell_type": "code",
   "execution_count": 12,
   "id": "4ba081fd-bfa4-4b2d-af1f-6c41f9950fc7",
   "metadata": {},
   "outputs": [],
   "source": [
    "tokens_clean = []\n",
    "for words in text_to_word:\n",
    "  if words not in stop_words:\n",
    "    tokens_clean.append(words)"
   ]
  },
  {
   "cell_type": "code",
   "execution_count": 13,
   "id": "14a1fcb9-712e-4c88-be2b-0ca84dc93552",
   "metadata": {},
   "outputs": [],
   "source": [
    "tokens_clean = str(tokens_clean)"
   ]
  },
  {
   "cell_type": "code",
   "execution_count": 14,
   "id": "21d4ce66-f392-4e9a-85c0-3abc91aa1227",
   "metadata": {},
   "outputs": [
    {
     "data": {
      "text/plain": [
       "' sweden s first female prime minister reappointed top job political turmoil forced resign within hours taking post last week mps backed social democratic party leader magdalena andersson narrow margin new vote monday attempt lead one party government election september next year stood prime minister last thursday coalition collapsed hours earlier ms andersson elected sweden s first female prime minister single vote parliament 54 year old economist s plan forming new coalition government green party thrown disarray budget proposal failed pass sweden s first female pm resigns hours appointment instead parliament voted budget drawn group opposition parties including far right sweden democrats green party said would accept budget drafted far right walked away government leading demise convention prime minister sweden expected resign coalition party leaves government monday s vote sweden s parliament riksdag 101 349 members voted yes 75 abstained 173 voted appointed prime minister sweden s political system candidate needs avoid majority voting news conference vote ms andersson said ready take sweden forward programme focused welfare climate change crime without support parties ms andersson struggle pass legislation parliament centre left social democrats hold 100 349 seats '"
      ]
     },
     "execution_count": 14,
     "metadata": {},
     "output_type": "execute_result"
    }
   ],
   "source": [
    "cleaned = re.sub('\\W+', ' ', tokens_clean)\n",
    "cleaned"
   ]
  },
  {
   "cell_type": "code",
   "execution_count": 15,
   "id": "99a21256-65dd-46ea-b279-ec5e5f043734",
   "metadata": {},
   "outputs": [],
   "source": [
    "cleaned_words = nltk.word_tokenize(cleaned)"
   ]
  },
  {
   "cell_type": "code",
   "execution_count": 16,
   "id": "c17479c6-e5e0-4120-8fef-161d2e299606",
   "metadata": {},
   "outputs": [],
   "source": [
    "fdist_clean = nltk.FreqDist(cleaned_words)\n",
    "most_common_words_clean = fdist_clean.most_common(20)"
   ]
  },
  {
   "cell_type": "code",
   "execution_count": 17,
   "id": "7726b713-eb51-4c1f-87f2-6df6d83d9a90",
   "metadata": {},
   "outputs": [
    {
     "data": {
      "text/plain": [
       "[('sweden', 8),\n",
       " ('s', 7),\n",
       " ('prime', 5),\n",
       " ('minister', 5),\n",
       " ('party', 5),\n",
       " ('andersson', 4),\n",
       " ('vote', 4),\n",
       " ('government', 4),\n",
       " ('parliament', 4),\n",
       " ('first', 3),\n",
       " ('female', 3),\n",
       " ('hours', 3),\n",
       " ('coalition', 3),\n",
       " ('ms', 3),\n",
       " ('budget', 3),\n",
       " ('voted', 3),\n",
       " ('political', 2),\n",
       " ('resign', 2),\n",
       " ('last', 2),\n",
       " ('social', 2)]"
      ]
     },
     "execution_count": 17,
     "metadata": {},
     "output_type": "execute_result"
    }
   ],
   "source": [
    "#The twenty most common words after removing punctuation and stop words \n",
    "most_common_words_clean"
   ]
  },
  {
   "cell_type": "code",
   "execution_count": 18,
   "id": "6c9cbcf7-39eb-4c27-8a25-7348ff62fd3c",
   "metadata": {},
   "outputs": [],
   "source": [
    "most_common_words_clean = pd.DataFrame(most_common_words_clean)\n",
    "most_common_words_clean = most_common_words_clean.rename(columns={0: \"Words\", 1: \"Count\"})\n"
   ]
  },
  {
   "cell_type": "code",
   "execution_count": 19,
   "id": "39c67ee5-a136-4e2d-81d0-23ca27d9d78e",
   "metadata": {},
   "outputs": [
    {
     "data": {
      "image/png": "[encoded data removed]",
      "text/plain": [
       "<Figure size 1080x360 with 2 Axes>"
      ]
     },
     "metadata": {
      "needs_background": "light"
     },
     "output_type": "display_data"
    }
   ],
   "source": [
    "fig, ax = plt.subplots(figsize = (15,5))\n",
    "fig.suptitle(\"Most present words\", size = 22)\n",
    "\n",
    "ax1 = plt.subplot(121) \n",
    "ax1.barh(\"Words\", data=most_common_words, width=\"Count\")\n",
    "ax1.set_title(\"Before cleaning \")\n",
    "ax1.set_xlabel(\"Number of words \")\n",
    "ax1.set_xticks(range(0,15,2))\n",
    "\n",
    "ax2 = plt.subplot(122)\n",
    "ax2.barh(\"Words\", data=most_common_words_clean, width=\"Count\")\n",
    "ax2.set_title(\"After cleaning \")\n",
    "ax2.set_xlabel(\"Number of words \")\n",
    "ax2.set_xticks(range(0,15,2))\n",
    "\n",
    "plt.show()"
   ]
  },
  {
   "cell_type": "code",
   "execution_count": null,
   "id": "d418c434-3e96-4dd2-9be2-cdb5d020d57c",
   "metadata": {},
   "outputs": [],
   "source": []
  }
 ],
 "metadata": {
  "kernelspec": {
   "display_name": "Python 3",
   "language": "python",
   "name": "python3"
  },
  "language_info": {
   "codemirror_mode": {
    "name": "ipython",
    "version": 3
   },
   "file_extension": ".py",
   "mimetype": "text/x-python",
   "name": "python",
   "nbconvert_exporter": "python",
   "pygments_lexer": "ipython3",
   "version": "3.8.8"
  }
 },
 "nbformat": 4,
 "nbformat_minor": 5
}
